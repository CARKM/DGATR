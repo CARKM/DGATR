{
 "cells": [
  {
   "cell_type": "code",
   "execution_count": 1,
   "metadata": {},
   "outputs": [],
   "source": [
    "import numpy as np\n",
    "import pandas as pd\n",
    "import matplotlib.pyplot as plt\n",
    "from tqdm import tqdm\n",
    "import torch\n",
    "import pickle                                                                                \n",
    "from env import *\n",
    "from policy.dis_train import DRL"
   ]
  },
  {
   "cell_type": "code",
   "execution_count": 2,
   "metadata": {},
   "outputs": [],
   "source": [
    "def train(para, **kw):\n",
    "    result = {}\n",
    "    for l in para['range']:\n",
    "        l = round(l,2)\n",
    "        nw.clean()\n",
    "        result[l] = nw.train(para['times'],lambd = l, lr=para['lr'], freq = para['freq'], **kw)\n",
    "    return result"
   ]
  },
  {
   "cell_type": "code",
   "execution_count": 3,
   "metadata": {},
   "outputs": [],
   "source": [
    "network = 'topology/6x6.net'\n",
    "net_name = '6x6'\n",
    "model = 'dis_train'\n",
    "\n",
    "epsilon = 0\n",
    "static = True"
   ]
  },
  {
   "cell_type": "code",
   "execution_count": 4,
   "metadata": {},
   "outputs": [],
   "source": [
    "nw = Network(network, is_drop=False)\n",
    "nw.agent = DRL(nw, net_name, epsilon=epsilon, static=static)"
   ]
  },
  {
   "cell_type": "markdown",
   "metadata": {},
   "source": [
    "# network information"
   ]
  },
  {
   "cell_type": "code",
   "execution_count": 5,
   "metadata": {},
   "outputs": [
    {
     "name": "stdout",
     "output_type": "stream",
     "text": [
      "Network Topology Information\n",
      "Number of Node: 36\n",
      "Input dimension 3\n",
      "-----------------------------------\n",
      "Hyper Parameter\n",
      "Learning rate: 4e-05\n",
      "Reward_decay: 0.99\n",
      "Memory capacity: 2000\n",
      "Batch size: 256\n",
      "Tau: 0.05\n",
      "-----------------------------------\n"
     ]
    }
   ],
   "source": [
    "print(nw.agent.config)"
   ]
  },
  {
   "cell_type": "markdown",
   "metadata": {},
   "source": [
    "# Build Neural Network"
   ]
  },
  {
   "cell_type": "code",
   "execution_count": 6,
   "metadata": {},
   "outputs": [],
   "source": [
    "from policy.network import sxsGAT\n",
    "nodes = nw.agent.config.number_of_node\n",
    "inp = nw.agent.config.node_input\n",
    "out = nw.agent.config.node_output\n",
    "glb_net = sxsGAT(nodes, inp, out)\n",
    "eval_net = [sxsGAT(nodes, inp, out) for i in range(nodes)]\n",
    "target_net = [sxsGAT(nodes, inp, out) for i in range(nodes)]"
   ]
  },
  {
   "cell_type": "code",
   "execution_count": 7,
   "metadata": {},
   "outputs": [],
   "source": [
    "nw.agent.build_model(glb_net, eval_net, target_net)"
   ]
  },
  {
   "cell_type": "code",
   "execution_count": 8,
   "metadata": {},
   "outputs": [],
   "source": [
    "lr = 5e-5\n",
    "nw.agent.reset_optimizer(lr)\n",
    "nw.agent.config.memory_capacity = 100\n",
    "nw.agent.config.batch = 16\n",
    "nw.agent.build_memory()"
   ]
  },
  {
   "cell_type": "code",
   "execution_count": 9,
   "metadata": {},
   "outputs": [
    {
     "name": "stdout",
     "output_type": "stream",
     "text": [
      "Network Topology Information\n",
      "Number of Node: 36\n",
      "Input dimension 3\n",
      "-----------------------------------\n",
      "Hyper Parameter\n",
      "Learning rate: 4e-05\n",
      "Reward_decay: 0.99\n",
      "Memory capacity: 100\n",
      "Batch size: 16\n",
      "Tau: 0.05\n",
      "-----------------------------------\n",
      "Memory shape (100, 220)\n",
      "-----------------------------------\n",
      "Network shape sxsGAT(\n",
      "  (GAT1): GraphAttentionLayer (3 -> 4)\n",
      "  (GAT2): GraphAttentionLayer (4 -> 8)\n",
      "  (fc1): Linear(in_features=288, out_features=54, bias=True)\n",
      "  (out): Linear(in_features=54, out_features=36, bias=True)\n",
      ")\n",
      "-----------------------------------\n",
      "Optimizer Adam (\n",
      "Parameter Group 0\n",
      "    amsgrad: False\n",
      "    betas: (0.9, 0.999)\n",
      "    eps: 1e-08\n",
      "    lr: 5e-05\n",
      "    weight_decay: 0\n",
      ")\n",
      "-----------------------------------\n"
     ]
    }
   ],
   "source": [
    "print(nw.agent)"
   ]
  },
  {
   "cell_type": "markdown",
   "metadata": {},
   "source": [
    "# Experiment"
   ]
  },
  {
   "cell_type": "code",
   "execution_count": 10,
   "metadata": {},
   "outputs": [],
   "source": [
    "DQL = {}\n",
    "DR = {}"
   ]
  },
  {
   "cell_type": "code",
   "execution_count": 11,
   "metadata": {},
   "outputs": [],
   "source": [
    "# load trained policy\n",
    "load = 3.5\n",
    "# nw.agent.load('6x6/GAT/%.1f'%(load))\n",
    "nw.agent.load(f'{net_name}/{model}/{load}')"
   ]
  },
  {
   "cell_type": "code",
   "execution_count": 12,
   "metadata": {},
   "outputs": [],
   "source": [
    "# experiment_range = np.arange(3.5, 0.01, -10.1)\n",
    "experiment_range = [1.0, 2.0, 3.0, 2.01, 1.01]"
   ]
  },
  {
   "cell_type": "code",
   "execution_count": 13,
   "metadata": {},
   "outputs": [
    {
     "name": "stderr",
     "output_type": "stream",
     "text": [
      "100%|██████████| 5/5 [08:00<00:00, 96.02s/it]\n"
     ]
    }
   ],
   "source": [
    "DQL = {}\n",
    "for i in tqdm(experiment_range):\n",
    "    for k,v in train({\n",
    "        'range': [round(i, 2)],\n",
    "        'times': 5000,\n",
    "        'lr': {},\n",
    "        'freq': 1\n",
    "    }, droprate = True, hop = True).items():\n",
    "        DQL[i] = v['route_time']\n",
    "        DR[ i] = v['droprate']\n",
    "dql = pd.DataFrame(DQL)"
   ]
  },
  {
   "cell_type": "code",
   "execution_count": 14,
   "metadata": {},
   "outputs": [
    {
     "data": {
      "image/png": "[encoded data removed]",
      "text/plain": [
       "<Figure size 432x288 with 1 Axes>"
      ]
     },
     "metadata": {
      "needs_background": "light"
     },
     "output_type": "display_data"
    }
   ],
   "source": [
    "dql = pd.DataFrame(DQL)\n",
    "plt.plot(dql)\n",
    "# dql.mean(1).plot()\n",
    "plt.show()"
   ]
  },
  {
   "cell_type": "code",
   "execution_count": 15,
   "metadata": {},
   "outputs": [
    {
     "data": {
      "text/plain": [
       "[<matplotlib.lines.Line2D at 0x7f847e5c4460>]"
      ]
     },
     "execution_count": 15,
     "metadata": {},
     "output_type": "execute_result"
    },
    {
     "data": {
      "image/png": "[encoded data removed]",
      "text/plain": [
       "<Figure size 432x288 with 1 Axes>"
      ]
     },
     "metadata": {
      "needs_background": "light"
     },
     "output_type": "display_data"
    }
   ],
   "source": [
    "plt.plot(nw.agent.loss)"
   ]
  },
  {
   "cell_type": "code",
   "execution_count": 16,
   "metadata": {},
   "outputs": [
    {
     "data": {
      "text/plain": [
       "1.00    5.835462\n",
       "2.00    6.629654\n",
       "3.00    8.428984\n",
       "2.01    6.512375\n",
       "1.01    5.653936\n",
       "dtype: float64"
      ]
     },
     "execution_count": 16,
     "metadata": {},
     "output_type": "execute_result"
    }
   ],
   "source": [
    "dql.tail(100).mean()"
   ]
  },
  {
   "cell_type": "code",
   "execution_count": 17,
   "metadata": {},
   "outputs": [],
   "source": [
    "# load = 3.6\n",
    "# nw.agent.store(f'{net_name}/{model}_4_layer/{load}')"
   ]
  },
  {
   "cell_type": "code",
   "execution_count": null,
   "metadata": {},
   "outputs": [],
   "source": []
  }
 ],
 "metadata": {
  "kernelspec": {
   "display_name": "Python 3",
   "language": "python",
   "name": "python3"
  },
  "language_info": {
   "codemirror_mode": {
    "name": "ipython",
    "version": 3
   },
   "file_extension": ".py",
   "mimetype": "text/x-python",
   "name": "python",
   "nbconvert_exporter": "python",
   "pygments_lexer": "ipython3",
   "version": "3.8.1"
  }
 },
 "nbformat": 4,
 "nbformat_minor": 2
}

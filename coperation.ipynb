{
 "cells": [
  {
   "cell_type": "code",
   "execution_count": 1,
   "metadata": {},
   "outputs": [],
   "source": [
    "import numpy as np\n",
    "import pandas as pd\n",
    "import matplotlib.pyplot as plt\n",
    "from tqdm import tqdm\n",
    "import torch\n",
    "import pickle\n",
    "from env import *\n",
    "from policy.coperation import DRL"
   ]
  },
  {
   "cell_type": "code",
   "execution_count": 2,
   "metadata": {},
   "outputs": [],
   "source": [
    "def train(para, **kw):\n",
    "    result = {}\n",
    "    for l in para['range']:\n",
    "        l = round(l,2)\n",
    "        nw.clean()\n",
    "        result[l] = nw.train(para['times'],lambd = l, lr=para['lr'], freq = para['freq'], **kw)\n",
    "    return result"
   ]
  },
  {
   "cell_type": "code",
   "execution_count": 3,
   "metadata": {},
   "outputs": [],
   "source": [
    "network = 'topology/6x6.net'\n",
    "net_name = '6x6'\n",
    "model = 'Coperation'\n",
    "\n",
    "epsilon = 0\n",
    "static = True"
   ]
  },
  {
   "cell_type": "code",
   "execution_count": 4,
   "metadata": {},
   "outputs": [],
   "source": [
    "nw = Network(network, is_drop=False)\n",
    "nw.agent = DRL(nw, net_name, epsilon=epsilon, static=static)"
   ]
  },
  {
   "cell_type": "markdown",
   "metadata": {},
   "source": [
    "# network information"
   ]
  },
  {
   "cell_type": "code",
   "execution_count": 5,
   "metadata": {},
   "outputs": [
    {
     "name": "stdout",
     "output_type": "stream",
     "text": [
      "Network Topology Information\n",
      "Number of Node: 36\n",
      "Input dimension 3\n",
      "-----------------------------------\n",
      "Hyper Parameter\n",
      "Learning rate: 4e-05\n",
      "Reward_decay: 0.99\n",
      "Memory capacity: 2000\n",
      "Batch size: 256\n",
      "Tau: 0.05\n",
      "-----------------------------------\n"
     ]
    }
   ],
   "source": [
    "print(nw.agent.config)"
   ]
  },
  {
   "cell_type": "markdown",
   "metadata": {},
   "source": [
    "# Build Neural Network"
   ]
  },
  {
   "cell_type": "code",
   "execution_count": 6,
   "metadata": {},
   "outputs": [],
   "source": [
    "from policy.network import sxsGAT\n",
    "nodes = nw.agent.config.number_of_node\n",
    "inp = nw.agent.config.node_input\n",
    "out = nw.agent.config.node_output\n",
    "eval_nets = [sxsGAT(nodes, inp, out) for i in range(nodes)]\n",
    "target_nets = [sxsGAT(nodes, inp, out) for i in range(nodes)]"
   ]
  },
  {
   "cell_type": "code",
   "execution_count": 7,
   "metadata": {},
   "outputs": [],
   "source": [
    "nw.agent.build_model(eval_nets, target_nets)"
   ]
  },
  {
   "cell_type": "code",
   "execution_count": 8,
   "metadata": {},
   "outputs": [],
   "source": [
    "lr = 1e-5\n",
    "nw.agent.reset_optimizer(lr)\n",
    "nw.agent.config.memory_capacity = 100\n",
    "nw.agent.config.batch = 16\n",
    "nw.agent.build_memory()"
   ]
  },
  {
   "cell_type": "code",
   "execution_count": 9,
   "metadata": {},
   "outputs": [
    {
     "name": "stdout",
     "output_type": "stream",
     "text": [
      "Network Topology Information\n",
      "Number of Node: 36\n",
      "Input dimension 3\n",
      "-----------------------------------\n",
      "Hyper Parameter\n",
      "Learning rate: 4e-05\n",
      "Reward_decay: 0.99\n",
      "Memory capacity: 100\n",
      "Batch size: 16\n",
      "Tau: 0.05\n",
      "-----------------------------------\n",
      "Memory shape (100, 220)\n",
      "-----------------------------------\n",
      "Network shape sxsGAT(\n",
      "  (GAT1): GraphAttentionLayer (3 -> 4)\n",
      "  (GAT2): GraphAttentionLayer (4 -> 8)\n",
      "  (fc1): Linear(in_features=288, out_features=54, bias=True)\n",
      "  (out): Linear(in_features=54, out_features=36, bias=True)\n",
      ")\n",
      "-----------------------------------\n",
      "Optimizer Adam (\n",
      "Parameter Group 0\n",
      "    amsgrad: False\n",
      "    betas: (0.9, 0.999)\n",
      "    eps: 1e-08\n",
      "    lr: 1e-05\n",
      "    weight_decay: 0\n",
      ")\n",
      "-----------------------------------\n"
     ]
    }
   ],
   "source": [
    "print(nw.agent)"
   ]
  },
  {
   "cell_type": "markdown",
   "metadata": {},
   "source": [
    "# Start experimenting"
   ]
  },
  {
   "cell_type": "code",
   "execution_count": 10,
   "metadata": {},
   "outputs": [],
   "source": [
    "DQL = {}\n",
    "DR = {}"
   ]
  },
  {
   "cell_type": "code",
   "execution_count": 11,
   "metadata": {},
   "outputs": [],
   "source": [
    "def make_list(load):\n",
    "    return [f'{net_name}/cooperation/{load}/net_{i}' for i in range(36)]"
   ]
  },
  {
   "cell_type": "code",
   "execution_count": 12,
   "metadata": {},
   "outputs": [],
   "source": [
    "# load trained policy\n",
    "l = make_list(3.5)\n",
    "nw.agent.load(l)"
   ]
  },
  {
   "cell_type": "code",
   "execution_count": 13,
   "metadata": {},
   "outputs": [],
   "source": [
    "# experiment_range = np.arange(3.5, 0.01, -10.1)\n",
    "experiment_range = [1.0, 2.0, 3.0, 2.01, 1.01]"
   ]
  },
  {
   "cell_type": "code",
   "execution_count": 14,
   "metadata": {},
   "outputs": [
    {
     "name": "stderr",
     "output_type": "stream",
     "text": [
      " 20%|██        | 1/5 [00:53<03:35, 53.88s/it]"
     ]
    },
    {
     "name": "stdout",
     "output_type": "stream",
     "text": [
      "1.0 finished and average time is 5.6736990154711675\n"
     ]
    },
    {
     "name": "stderr",
     "output_type": "stream",
     "text": [
      " 40%|████      | 2/5 [02:27<03:17, 65.80s/it]"
     ]
    },
    {
     "name": "stdout",
     "output_type": "stream",
     "text": [
      "2.0 finished and average time is 6.612938706129387\n"
     ]
    },
    {
     "name": "stderr",
     "output_type": "stream",
     "text": [
      " 60%|██████    | 3/5 [04:21<02:40, 80.38s/it]"
     ]
    },
    {
     "name": "stdout",
     "output_type": "stream",
     "text": [
      "3.0 finished and average time is 9.13769396975054\n"
     ]
    },
    {
     "name": "stderr",
     "output_type": "stream",
     "text": [
      " 80%|████████  | 4/5 [05:21<01:14, 74.00s/it]"
     ]
    },
    {
     "name": "stdout",
     "output_type": "stream",
     "text": [
      "2.01 finished and average time is 6.596553773024361\n"
     ]
    },
    {
     "name": "stderr",
     "output_type": "stream",
     "text": [
      "100%|██████████| 5/5 [05:50<00:00, 70.17s/it]"
     ]
    },
    {
     "name": "stdout",
     "output_type": "stream",
     "text": [
      "1.01 finished and average time is 5.828226922316663\n"
     ]
    },
    {
     "name": "stderr",
     "output_type": "stream",
     "text": [
      "\n"
     ]
    }
   ],
   "source": [
    "DQL = {}\n",
    "for i in tqdm(experiment_range):\n",
    "    for k,v in train({\n",
    "        'range': [round(i, 2)],\n",
    "        'times': 5000,\n",
    "        'lr': {},\n",
    "        'freq': 1\n",
    "    }, droprate = True, hop = True).items():\n",
    "        DQL[i] = v['route_time']\n",
    "        DR[ i] = v['droprate']\n",
    "    print(round(i, 2), 'finished and average time is', v['route_time'][-1])\n",
    "dql = pd.DataFrame(DQL)"
   ]
  },
  {
   "cell_type": "code",
   "execution_count": 15,
   "metadata": {},
   "outputs": [
    {
     "data": {
      "image/png": "[encoded data removed]",
      "text/plain": [
       "<Figure size 432x288 with 1 Axes>"
      ]
     },
     "metadata": {
      "needs_background": "light"
     },
     "output_type": "display_data"
    }
   ],
   "source": [
    "dql = pd.DataFrame(DQL)\n",
    "plt.plot(dql)\n",
    "# dql.mean(1).plot()\n",
    "plt.show()"
   ]
  },
  {
   "cell_type": "code",
   "execution_count": 16,
   "metadata": {},
   "outputs": [
    {
     "data": {
      "text/plain": [
       "[<matplotlib.lines.Line2D at 0x7fa1a63bb310>]"
      ]
     },
     "execution_count": 16,
     "metadata": {},
     "output_type": "execute_result"
    },
    {
     "data": {
      "image/png": "[encoded data removed]",
      "text/plain": [
       "<Figure size 432x288 with 1 Axes>"
      ]
     },
     "metadata": {
      "needs_background": "light"
     },
     "output_type": "display_data"
    }
   ],
   "source": [
    "plt.plot(nw.agent.loss)"
   ]
  },
  {
   "cell_type": "code",
   "execution_count": null,
   "metadata": {},
   "outputs": [],
   "source": []
  }
 ],
 "metadata": {
  "kernelspec": {
   "display_name": "Python 3",
   "language": "python",
   "name": "python3"
  },
  "language_info": {
   "codemirror_mode": {
    "name": "ipython",
    "version": 3
   },
   "file_extension": ".py",
   "mimetype": "text/x-python",
   "name": "python",
   "nbconvert_exporter": "python",
   "pygments_lexer": "ipython3",
   "version": "3.8.1"
  }
 },
 "nbformat": 4,
 "nbformat_minor": 2
}

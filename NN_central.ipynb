{
 "cells": [
  {
   "cell_type": "code",
   "execution_count": 1,
   "metadata": {},
   "outputs": [],
   "source": [
    "import numpy as np\n",
    "import pandas as pd\n",
    "import matplotlib.pyplot as plt\n",
    "from tqdm import tqdm\n",
    "import torch\n",
    "import torch.nn as nn\n",
    "import torch.nn.functional as F\n",
    "import pickle\n",
    "\n",
    "from env import *\n",
    "from policy.NN_model import DRL"
   ]
  },
  {
   "cell_type": "code",
   "execution_count": 2,
   "metadata": {},
   "outputs": [],
   "source": [
    "def train(para, **kw):\n",
    "    result = {}\n",
    "    for l in para['range']:\n",
    "        l = round(l,2)\n",
    "        nw.clean()\n",
    "        result[l] = nw.train(para['times'],lambd = l, lr=para['lr'], freq = para['freq'], **kw)\n",
    "    return result"
   ]
  },
  {
   "cell_type": "code",
   "execution_count": 9,
   "metadata": {},
   "outputs": [],
   "source": [
    "network = 'topology/6x6.net'\n",
    "net_name = '6x6'\n",
    "model = 'DQN'\n",
    "\n",
    "epsilon = 0\n",
    "static = True"
   ]
  },
  {
   "cell_type": "code",
   "execution_count": 10,
   "metadata": {},
   "outputs": [],
   "source": [
    "nw = Network(network, is_drop=False)\n",
    "nw.agent = DRL(nw, net_name, epsilon=epsilon, static=static)"
   ]
  },
  {
   "cell_type": "markdown",
   "metadata": {},
   "source": [
    "# network information"
   ]
  },
  {
   "cell_type": "code",
   "execution_count": 11,
   "metadata": {},
   "outputs": [
    {
     "name": "stdout",
     "output_type": "stream",
     "text": [
      "Network Topology Information\n",
      "Number of Node: 36\n",
      "Input dimension 3\n",
      "-----------------------------------\n",
      "Hyper Parameter\n",
      "Learning rate: 4e-05\n",
      "Reward_decay: 0.99\n",
      "Memory capacity: 2000\n",
      "Batch size: 256\n",
      "Tau: 0.05\n",
      "-----------------------------------\n"
     ]
    }
   ],
   "source": [
    "print(nw.agent.config)"
   ]
  },
  {
   "cell_type": "markdown",
   "metadata": {},
   "source": [
    "# Build Neural Network"
   ]
  },
  {
   "cell_type": "code",
   "execution_count": 37,
   "metadata": {},
   "outputs": [],
   "source": [
    "from policy.network import sxsGAT, sxsDQN\n",
    "nodes = nw.agent.config.number_of_node\n",
    "inp = nw.agent.config.node_input\n",
    "out = nw.agent.config.node_output\n",
    "eval_net = sxsDQN(nodes, inp, out) if model == 'DQN' else sxsGAT(nodes, inp, out)\n",
    "target_net = sxsDQN(nodes, inp, out) if model == 'DQN' else sxsGAT(nodes, inp, out)\n"
   ]
  },
  {
   "cell_type": "code",
   "execution_count": 38,
   "metadata": {},
   "outputs": [],
   "source": [
    "nw.agent.build_model(eval_net, target_net)"
   ]
  },
  {
   "cell_type": "code",
   "execution_count": 39,
   "metadata": {},
   "outputs": [],
   "source": [
    "lr = 1e-5\n",
    "nw.agent.reset_optimizer(lr)\n",
    "nw.agent.config.memory_capacity = 500\n",
    "nw.agent.config.batch = 64\n",
    "nw.agent.build_memory()"
   ]
  },
  {
   "cell_type": "code",
   "execution_count": 40,
   "metadata": {},
   "outputs": [
    {
     "name": "stdout",
     "output_type": "stream",
     "text": [
      "Network Topology Information\n",
      "Number of Node: 36\n",
      "Input dimension 3\n",
      "-----------------------------------\n",
      "Hyper Parameter\n",
      "Learning rate: 4e-05\n",
      "Reward_decay: 0.99\n",
      "Memory capacity: 500\n",
      "Batch size: 64\n",
      "Tau: 0.05\n",
      "-----------------------------------\n",
      "Memory shape (500, 220)\n",
      "-----------------------------------\n",
      "Network shape DQN(\n",
      "  (fc1): Linear(in_features=108, out_features=128, bias=True)\n",
      "  (fc2): Linear(in_features=128, out_features=64, bias=True)\n",
      "  (out): Linear(in_features=64, out_features=36, bias=True)\n",
      ")\n",
      "-----------------------------------\n",
      "Optimizer Adam (\n",
      "Parameter Group 0\n",
      "    amsgrad: False\n",
      "    betas: (0.9, 0.999)\n",
      "    eps: 1e-08\n",
      "    lr: 1e-05\n",
      "    weight_decay: 0\n",
      ")\n",
      "-----------------------------------\n"
     ]
    }
   ],
   "source": [
    "print(nw.agent)"
   ]
  },
  {
   "cell_type": "markdown",
   "metadata": {},
   "source": [
    "# Start Training\n"
   ]
  },
  {
   "cell_type": "code",
   "execution_count": 41,
   "metadata": {},
   "outputs": [],
   "source": [
    "DQL = {}\n",
    "DR = {}"
   ]
  },
  {
   "cell_type": "code",
   "execution_count": 42,
   "metadata": {},
   "outputs": [],
   "source": [
    "# load trained policy\n",
    "load = 3.2\n",
    "nw.agent.load(f'{net_name}/{model}/{load}')"
   ]
  },
  {
   "cell_type": "code",
   "execution_count": null,
   "metadata": {},
   "outputs": [],
   "source": [
    "experiment_range = [1.0, 2.0, 3.0, 2.1, 1.1]"
   ]
  },
  {
   "cell_type": "code",
   "execution_count": 43,
   "metadata": {},
   "outputs": [
    {
     "name": "stderr",
     "output_type": "stream",
     "text": [
      " 20%|██        | 1/5 [00:24<01:36, 24.16s/it]"
     ]
    },
    {
     "name": "stdout",
     "output_type": "stream",
     "text": [
      "1.0 finished and average time is 5.582543061737953\n"
     ]
    },
    {
     "name": "stderr",
     "output_type": "stream",
     "text": [
      " 40%|████      | 2/5 [00:51<01:15, 25.22s/it]"
     ]
    },
    {
     "name": "stdout",
     "output_type": "stream",
     "text": [
      "2.0 finished and average time is 6.415493650949896\n"
     ]
    },
    {
     "name": "stderr",
     "output_type": "stream",
     "text": [
      " 60%|██████    | 3/5 [01:30<00:58, 29.21s/it]"
     ]
    },
    {
     "name": "stdout",
     "output_type": "stream",
     "text": [
      "3.0 finished and average time is 8.856866537717602\n"
     ]
    },
    {
     "name": "stderr",
     "output_type": "stream",
     "text": [
      " 80%|████████  | 4/5 [02:18<00:35, 35.02s/it]"
     ]
    },
    {
     "name": "stdout",
     "output_type": "stream",
     "text": [
      "2.1 finished and average time is 6.500376293508937\n"
     ]
    },
    {
     "name": "stderr",
     "output_type": "stream",
     "text": [
      "100%|██████████| 5/5 [02:36<00:00, 31.36s/it]"
     ]
    },
    {
     "name": "stdout",
     "output_type": "stream",
     "text": [
      "1.1 finished and average time is 5.687031278580575\n"
     ]
    },
    {
     "name": "stderr",
     "output_type": "stream",
     "text": [
      "\n"
     ]
    }
   ],
   "source": [
    "DQL = {}\n",
    "for i in tqdm(experiment_range):\n",
    "    for k,v in train({\n",
    "        'range': [round(i, 2)],\n",
    "        'times': 5000,\n",
    "        'lr': {},\n",
    "        'freq': 1\n",
    "    }, droprate = True, hop = True).items():\n",
    "        DQL[i] = v['route_time']\n",
    "    print(round(i, 2), 'finished and average time is', v['route_time'][-1])"
   ]
  },
  {
   "cell_type": "code",
   "execution_count": 44,
   "metadata": {},
   "outputs": [
    {
     "data": {
      "image/png": "[encoded data removed]",
      "text/plain": [
       "<Figure size 432x288 with 1 Axes>"
      ]
     },
     "metadata": {
      "needs_background": "light"
     },
     "output_type": "display_data"
    }
   ],
   "source": [
    "dql = pd.DataFrame(DQL)\n",
    "plt.plot(dql)\n",
    "# dql.mean(1).plot()\n",
    "plt.show()"
   ]
  },
  {
   "cell_type": "code",
   "execution_count": 45,
   "metadata": {},
   "outputs": [
    {
     "data": {
      "text/plain": [
       "[<matplotlib.lines.Line2D at 0x7fa0b8814820>]"
      ]
     },
     "execution_count": 45,
     "metadata": {},
     "output_type": "execute_result"
    },
    {
     "data": {
      "image/png": "[encoded data removed]",
      "text/plain": [
       "<Figure size 432x288 with 1 Axes>"
      ]
     },
     "metadata": {
      "needs_background": "light"
     },
     "output_type": "display_data"
    }
   ],
   "source": [
    "plt.plot(nw.agent.loss)"
   ]
  },
  {
   "cell_type": "code",
   "execution_count": 22,
   "metadata": {},
   "outputs": [
    {
     "data": {
      "text/plain": [
       "2.4    10.958269\n",
       "2.5    11.155255\n",
       "2.6    12.640821\n",
       "2.7    13.916532\n",
       "2.8    17.480287\n",
       "2.9    20.995526\n",
       "dtype: float64"
      ]
     },
     "execution_count": 22,
     "metadata": {},
     "output_type": "execute_result"
    }
   ],
   "source": [
    "dql.tail(500).mean()\n",
    "# plt.savefig('DQN_6x6_1_converge')"
   ]
  },
  {
   "cell_type": "code",
   "execution_count": 19,
   "metadata": {},
   "outputs": [],
   "source": [
    "# store_load = 3.2\n",
    "# nw.agent.store(f'{net_name}/{model}/{store_load}')"
   ]
  },
  {
   "cell_type": "code",
   "execution_count": null,
   "metadata": {},
   "outputs": [],
   "source": []
  }
 ],
 "metadata": {
  "kernelspec": {
   "display_name": "Python 3",
   "language": "python",
   "name": "python3"
  },
  "language_info": {
   "codemirror_mode": {
    "name": "ipython",
    "version": 3
   },
   "file_extension": ".py",
   "mimetype": "text/x-python",
   "name": "python",
   "nbconvert_exporter": "python",
   "pygments_lexer": "ipython3",
   "version": "3.8.1"
  }
 },
 "nbformat": 4,
 "nbformat_minor": 2
}
